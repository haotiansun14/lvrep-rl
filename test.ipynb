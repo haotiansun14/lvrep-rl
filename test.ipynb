{
 "cells": [
  {
   "cell_type": "code",
   "execution_count": 1,
   "metadata": {},
   "outputs": [
    {
     "name": "stdout",
     "output_type": "stream",
     "text": [
      "torch.Size([])\n"
     ]
    }
   ],
   "source": [
    "import torch\n",
    "\n",
    "aa = torch.randn(256, 1024)\n",
    "bb = torch.randn(256, 1024)\n",
    "\n",
    "cc = torch.bmm(aa[:, None, :], bb[:, :, None]).flatten().square().mean()\n",
    "print(cc.shape)"
   ]
  },
  {
   "cell_type": "code",
   "execution_count": 39,
   "metadata": {},
   "outputs": [
    {
     "data": {
      "text/plain": [
       "torch.Size([256, 1024])"
      ]
     },
     "execution_count": 39,
     "metadata": {},
     "output_type": "execute_result"
    }
   ],
   "source": [
    "aa.log().shape"
   ]
  },
  {
   "cell_type": "code",
   "execution_count": 6,
   "metadata": {},
   "outputs": [
    {
     "data": {
      "text/plain": [
       "torch.Size([256])"
      ]
     },
     "execution_count": 6,
     "metadata": {},
     "output_type": "execute_result"
    }
   ],
   "source": [
    "torch.einsum('ij,ij->i', aa, bb).shape"
   ]
  },
  {
   "cell_type": "code",
   "execution_count": 1,
   "metadata": {},
   "outputs": [
    {
     "data": {
      "text/plain": [
       "0.5"
      ]
     },
     "execution_count": 1,
     "metadata": {},
     "output_type": "execute_result"
    }
   ],
   "source": []
  },
  {
   "cell_type": "code",
   "execution_count": 1,
   "metadata": {},
   "outputs": [],
   "source": [
    "eee=(((1024, 1024,), (100, 100),),3)"
   ]
  },
  {
   "cell_type": "code",
   "execution_count": 3,
   "metadata": {},
   "outputs": [
    {
     "data": {
      "text/plain": [
       "((1024, 1024), (100, 100))"
      ]
     },
     "execution_count": 3,
     "metadata": {},
     "output_type": "execute_result"
    }
   ],
   "source": [
    "eee[0]"
   ]
  },
  {
   "cell_type": "code",
   "execution_count": 51,
   "metadata": {},
   "outputs": [
    {
     "data": {
      "text/plain": [
       "tensor([0.3989, 0.3989, 0.3989, 0.3989, 0.3989, 0.3989, 0.3989, 0.3989, 0.3989,\n",
       "        0.3989, 0.3989, 0.3989, 0.3989, 0.3989, 0.3989, 0.3989, 0.3989, 0.3989,\n",
       "        0.3989, 0.3989, 0.3989, 0.3989, 0.3989, 0.3989, 0.3989, 0.3989, 0.3989,\n",
       "        0.3989, 0.3989, 0.3989, 0.3989, 0.3989, 0.3989, 0.3989, 0.3989, 0.3989,\n",
       "        0.3989, 0.3989, 0.3989, 0.3989, 0.3989, 0.3989, 0.3989, 0.3989, 0.3989,\n",
       "        0.3989, 0.3989, 0.3989, 0.3989, 0.3989, 0.3989, 0.3989, 0.3989, 0.3989,\n",
       "        0.3989, 0.3989, 0.3989, 0.3989, 0.3989, 0.3989, 0.3989, 0.3989, 0.3989,\n",
       "        0.3989, 0.3989, 0.3989, 0.3989, 0.3989, 0.3989, 0.3989, 0.3989, 0.3989,\n",
       "        0.3989, 0.3989, 0.3989, 0.3989, 0.3989, 0.3989, 0.3989, 0.3989, 0.3989,\n",
       "        0.3989, 0.3989, 0.3989, 0.3989, 0.3989, 0.3989, 0.3989, 0.3989, 0.3989,\n",
       "        0.3989, 0.3989, 0.3989, 0.3989, 0.3989, 0.3989, 0.3989, 0.3989, 0.3989,\n",
       "        0.3989, 0.3989, 0.3989, 0.3989, 0.3989, 0.3989, 0.3989, 0.3989, 0.3989,\n",
       "        0.3989, 0.3989, 0.3989, 0.3989, 0.3989, 0.3989, 0.3989, 0.3989, 0.3989,\n",
       "        0.3989, 0.3989, 0.3989, 0.3989, 0.3989, 0.3989, 0.3989, 0.3989, 0.3989,\n",
       "        0.3989, 0.3989, 0.3989, 0.3989, 0.3989, 0.3989, 0.3989, 0.3989, 0.3989,\n",
       "        0.3989, 0.3989, 0.3989, 0.3989, 0.3989, 0.3989, 0.3989, 0.3989, 0.3989,\n",
       "        0.3989, 0.3989, 0.3989, 0.3989, 0.3989, 0.3989, 0.3989, 0.3989, 0.3989,\n",
       "        0.3989, 0.3989, 0.3989, 0.3989, 0.3989, 0.3989, 0.3989, 0.3989, 0.3989,\n",
       "        0.3989, 0.3989, 0.3989, 0.3989, 0.3989, 0.3989, 0.3989, 0.3989, 0.3989,\n",
       "        0.3989, 0.3989, 0.3989, 0.3989, 0.3989, 0.3989, 0.3989, 0.3989, 0.3989,\n",
       "        0.3989, 0.3989, 0.3989, 0.3989, 0.3989, 0.3989, 0.3989, 0.3989, 0.3989,\n",
       "        0.3989, 0.3989, 0.3989, 0.3989, 0.3989, 0.3989, 0.3989, 0.3989, 0.3989,\n",
       "        0.3989, 0.3989, 0.3989, 0.3989, 0.3989, 0.3989, 0.3989, 0.3989, 0.3989,\n",
       "        0.3989, 0.3989, 0.3989, 0.3989, 0.3989, 0.3989, 0.3989, 0.3989, 0.3989,\n",
       "        0.3989, 0.3989, 0.3989, 0.3989, 0.3989, 0.3989, 0.3989, 0.3989, 0.3989,\n",
       "        0.3989, 0.3989, 0.3989, 0.3989, 0.3989, 0.3989, 0.3989, 0.3989, 0.3989,\n",
       "        0.3989, 0.3989, 0.3989, 0.3989, 0.3989, 0.3989, 0.3989, 0.3989, 0.3989,\n",
       "        0.3989, 0.3989, 0.3989, 0.3989, 0.3989, 0.3989, 0.3989, 0.3989, 0.3989,\n",
       "        0.3989, 0.3989, 0.3989, 0.3989])"
      ]
     },
     "execution_count": 51,
     "metadata": {},
     "output_type": "execute_result"
    }
   ],
   "source": [
    "base_measure = torch.distributions.Normal(torch.zeros(256), torch.ones(256))\n",
    "base_measure.log_prob(torch.zeros(256)).exp()"
   ]
  },
  {
   "cell_type": "code",
   "execution_count": 40,
   "metadata": {},
   "outputs": [],
   "source": [
    "lambda_ortho = 1\n",
    "lambda_prob = 1\n",
    "\n",
    "z_phi = torch.randn(256, 1024)\n",
    "z_mu = torch.randn(256, 1024)\n",
    "\n",
    "feature_dim = 1024\n",
    "# orthogonal loss\n",
    "# Create 256x1024x1024 tensors for phi * mu\n",
    "phi_mu_p = z_phi.unsqueeze(2) * z_mu.unsqueeze(1)  # shape: [256, 1024, 1024]\n",
    "phi_mu_q = z_phi.unsqueeze(2) * z_mu.unsqueeze(1)  # shape: [256, 1024, 1024]\n",
    "\n",
    "# Create a 1024x1024 identity matrix\n",
    "identity_matrix = torch.eye(feature_dim).unsqueeze(0) / feature_dim  # shape: [1, 1024, 1024]\n",
    "\n",
    "# Compute the terms (phi_{p, i} * mu_{p, j} - 1(i == j)) for all p, i, j\n",
    "term1 = phi_mu_p - identity_matrix  # broadcasting handles the subtraction\n",
    "\n",
    "# Compute the terms (phi_{q, i} * mu_{q, j} - 1(i == j)) for all q, i, j\n",
    "term2 = phi_mu_q - identity_matrix  # broadcasting handles the subtraction\n",
    "\n",
    "loss_ortho = (term1.unsqueeze(0) * term2.unsqueeze(1)).mean() / lambda_ortho"
   ]
  },
  {
   "cell_type": "code",
   "execution_count": 42,
   "metadata": {},
   "outputs": [
    {
     "data": {
      "text/plain": [
       "torch.Size([256, 1024, 1024])"
      ]
     },
     "execution_count": 42,
     "metadata": {},
     "output_type": "execute_result"
    }
   ],
   "source": [
    "phi_mu_p.shape"
   ]
  },
  {
   "cell_type": "code",
   "execution_count": 36,
   "metadata": {},
   "outputs": [
    {
     "ename": "RuntimeError",
     "evalue": "outer: Expected 1-D argument self, but got 2-D",
     "output_type": "error",
     "traceback": [
      "\u001b[0;31m---------------------------------------------------------------------------\u001b[0m",
      "\u001b[0;31mRuntimeError\u001b[0m                              Traceback (most recent call last)",
      "Cell \u001b[0;32mIn[36], line 2\u001b[0m\n\u001b[1;32m      1\u001b[0m dd \u001b[39m=\u001b[39m bb \u001b[39m=\u001b[39m torch\u001b[39m.\u001b[39mrandn(\u001b[39m256\u001b[39m,\u001b[39m10\u001b[39m)\n\u001b[0;32m----> 2\u001b[0m torch\u001b[39m.\u001b[39;49mouter(dd,cc)\n",
      "\u001b[0;31mRuntimeError\u001b[0m: outer: Expected 1-D argument self, but got 2-D"
     ]
    }
   ],
   "source": [
    "dd = bb = torch.randn(256,10)\n",
    "torch.outer(dd,cc)"
   ]
  },
  {
   "cell_type": "code",
   "execution_count": 29,
   "metadata": {},
   "outputs": [
    {
     "name": "stdout",
     "output_type": "stream",
     "text": [
      "tensor(980.7708)\n"
     ]
    },
    {
     "data": {
      "text/plain": [
       "tensor(490.3854)"
      ]
     },
     "execution_count": 29,
     "metadata": {},
     "output_type": "execute_result"
    }
   ],
   "source": [
    "p_base = torch.distributions.MultivariateNormal(torch.zeros(18), torch.eye(18))\n",
    "p_base.log_prob(torch.randn(256, 18)).shape\n",
    "print(cc)\n",
    "cc / 2"
   ]
  }
 ],
 "metadata": {
  "kernelspec": {
   "display_name": "morl_env",
   "language": "python",
   "name": "python3"
  },
  "language_info": {
   "codemirror_mode": {
    "name": "ipython",
    "version": 3
   },
   "file_extension": ".py",
   "mimetype": "text/x-python",
   "name": "python",
   "nbconvert_exporter": "python",
   "pygments_lexer": "ipython3",
   "version": "3.9.18"
  },
  "orig_nbformat": 4
 },
 "nbformat": 4,
 "nbformat_minor": 2
}
